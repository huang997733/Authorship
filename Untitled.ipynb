{
 "cells": [
  {
   "cell_type": "code",
   "execution_count": 1,
   "id": "94e67787",
   "metadata": {},
   "outputs": [],
   "source": [
    "import json\n",
    "import numpy as np"
   ]
  },
  {
   "cell_type": "markdown",
   "id": "00831b13",
   "metadata": {},
   "source": [
    "## Data preprocessing"
   ]
  },
  {
   "cell_type": "code",
   "execution_count": 2,
   "id": "895c6c60",
   "metadata": {},
   "outputs": [],
   "source": [
    "with open(\"train.json\",\"r\") as f:\n",
    "    train = json.load(f)"
   ]
  },
  {
   "cell_type": "code",
   "execution_count": 3,
   "id": "897ef562",
   "metadata": {},
   "outputs": [],
   "source": [
    "with open(\"test.json\",\"r\") as f:\n",
    "    test = json.load(f)"
   ]
  },
  {
   "cell_type": "markdown",
   "id": "716fc053",
   "metadata": {},
   "source": [
    "### process train data"
   ]
  },
  {
   "cell_type": "code",
   "execution_count": 4,
   "id": "09e12989",
   "metadata": {},
   "outputs": [],
   "source": [
    "y = []\n",
    "for data in train:\n",
    "    authors = np.array(data['authors'])\n",
    "    prolific_authors = authors[authors<100]\n",
    "    label = np.zeros(101)\n",
    "    if len(prolific_authors) == 0:\n",
    "        label[-1] = 1.\n",
    "    else:\n",
    "        label[prolific_authors] = 1.\n",
    "    y.append(label)\n",
    "y = np.array(y)"
   ]
  },
  {
   "cell_type": "code",
   "execution_count": 5,
   "id": "44c5a821",
   "metadata": {},
   "outputs": [],
   "source": [
    "from gensim.models import Word2Vec\n",
    "from gensim.models.doc2vec import Doc2Vec, TaggedDocument"
   ]
  },
  {
   "cell_type": "code",
   "execution_count": 6,
   "id": "712be544",
   "metadata": {},
   "outputs": [],
   "source": [
    "words = []\n",
    "for data in train:\n",
    "    title = data['title']\n",
    "    abstract = data['abstract']\n",
    "    words.append(title+abstract)"
   ]
  },
  {
   "cell_type": "code",
   "execution_count": 7,
   "id": "a1d32ead",
   "metadata": {},
   "outputs": [],
   "source": [
    "documents = [TaggedDocument(doc, [i]) for i, doc in enumerate(words)]\n",
    "d2v = Doc2Vec(documents, vector_size=300, window=2, min_count=1)"
   ]
  },
  {
   "cell_type": "code",
   "execution_count": 8,
   "id": "9d92344f",
   "metadata": {},
   "outputs": [],
   "source": [
    "# model.infer_vector(np.asarray(words[0],dtype='str'))"
   ]
  },
  {
   "cell_type": "code",
   "execution_count": 9,
   "id": "4498bdba",
   "metadata": {},
   "outputs": [],
   "source": [
    "doc = []\n",
    "for data in train:\n",
    "    title = data['title']\n",
    "    abstract = data['abstract']\n",
    "    total = title + abstract\n",
    "    vec = d2v.infer_vector(np.asarray(total,dtype='str'))\n",
    "    doc.append(vec)\n",
    "doc = np.array(doc)"
   ]
  },
  {
   "cell_type": "code",
   "execution_count": 10,
   "id": "eee60ea4",
   "metadata": {},
   "outputs": [],
   "source": [
    "# doc.shape"
   ]
  },
  {
   "cell_type": "code",
   "execution_count": 11,
   "id": "5459f8c0",
   "metadata": {},
   "outputs": [],
   "source": [
    "# model = Word2Vec(sentences=words, vector_size=300, min_count=1)"
   ]
  },
  {
   "cell_type": "code",
   "execution_count": 12,
   "id": "7125fd20",
   "metadata": {},
   "outputs": [],
   "source": [
    "# word_vec = model.wv"
   ]
  },
  {
   "cell_type": "code",
   "execution_count": 13,
   "id": "0243119e",
   "metadata": {},
   "outputs": [],
   "source": [
    "# text = []\n",
    "# for data in train:\n",
    "#     title = data['title']\n",
    "#     abstract = data['abstract']\n",
    "#     total = title + abstract\n",
    "#     vec = np.zeros(300)\n",
    "#     for w in total:\n",
    "#         vec += word_vec[w]\n",
    "#     vec /= len(total)\n",
    "#     text.append(vec)\n",
    "# text = np.array(text)"
   ]
  },
  {
   "cell_type": "code",
   "execution_count": 14,
   "id": "b58688d0",
   "metadata": {},
   "outputs": [],
   "source": [
    "venue = []\n",
    "for data in train:\n",
    "    v = data['venue']\n",
    "    temp = np.zeros(466)\n",
    "    if v == \"\":\n",
    "        temp[-1] = 1.\n",
    "    else:\n",
    "        temp[v] = 1.\n",
    "    venue.append(temp)\n",
    "venue = np.array(venue)"
   ]
  },
  {
   "cell_type": "code",
   "execution_count": 15,
   "id": "cd7b28a2",
   "metadata": {},
   "outputs": [],
   "source": [
    "cas = {}\n",
    "for data in train:\n",
    "    a = np.array(data['authors'])\n",
    "    pa = a[a<100]\n",
    "    ca = a[a>=100]\n",
    "    if len(pa) != 0:\n",
    "        for author in ca:\n",
    "            cas[author] = 1"
   ]
  },
  {
   "cell_type": "code",
   "execution_count": 16,
   "id": "8dc73e23",
   "metadata": {},
   "outputs": [],
   "source": [
    "ca_list = list(cas.keys())"
   ]
  },
  {
   "cell_type": "code",
   "execution_count": 17,
   "id": "7ed79675",
   "metadata": {},
   "outputs": [
    {
     "data": {
      "text/plain": [
       "6575"
      ]
     },
     "execution_count": 17,
     "metadata": {},
     "output_type": "execute_result"
    }
   ],
   "source": [
    "len(ca_list)"
   ]
  },
  {
   "cell_type": "code",
   "execution_count": 18,
   "id": "392c1555",
   "metadata": {},
   "outputs": [],
   "source": [
    "ca_index = {}\n",
    "for i, d in enumerate(ca_list):\n",
    "    ca_index[d] = i"
   ]
  },
  {
   "cell_type": "code",
   "execution_count": 19,
   "id": "51ee21e5",
   "metadata": {},
   "outputs": [],
   "source": [
    "coauthors = []\n",
    "for data in train:\n",
    "    a = np.array(data['authors'])\n",
    "    pa = a[a<100]\n",
    "    ca = a[a>=100]\n",
    "    temp = np.zeros(6576)\n",
    "    if len(pa) == 0:\n",
    "        temp[-1] = 1.\n",
    "    else:\n",
    "        for x in ca:\n",
    "            temp[ca_index[x]] = 1.\n",
    "    coauthors.append(temp)\n",
    "coauthors = np.array(coauthors)"
   ]
  },
  {
   "cell_type": "code",
   "execution_count": 20,
   "id": "84615807",
   "metadata": {},
   "outputs": [],
   "source": [
    "x = np.concatenate((doc,venue), axis=1)"
   ]
  },
  {
   "cell_type": "code",
   "execution_count": 21,
   "id": "e02d5a12",
   "metadata": {},
   "outputs": [],
   "source": [
    "x = np.concatenate((x,coauthors), axis=1)"
   ]
  },
  {
   "cell_type": "code",
   "execution_count": 22,
   "id": "9a17b8b1",
   "metadata": {},
   "outputs": [],
   "source": [
    "from sklearn.preprocessing import StandardScaler"
   ]
  },
  {
   "cell_type": "code",
   "execution_count": 23,
   "id": "c867fab9",
   "metadata": {},
   "outputs": [],
   "source": [
    "scaler = StandardScaler()\n",
    "x = scaler.fit_transform(x)"
   ]
  },
  {
   "cell_type": "markdown",
   "id": "7bfe2cde",
   "metadata": {},
   "source": [
    "### process test data"
   ]
  },
  {
   "cell_type": "code",
   "execution_count": 24,
   "id": "fdd6ccfa",
   "metadata": {},
   "outputs": [],
   "source": [
    "doc = []\n",
    "for data in test:\n",
    "    title = data['title']\n",
    "    abstract = data['abstract']\n",
    "    total = title + abstract\n",
    "    vec = d2v.infer_vector(np.asarray(total,dtype='str'))\n",
    "    doc.append(vec)\n",
    "doc = np.array(doc)"
   ]
  },
  {
   "cell_type": "code",
   "execution_count": 25,
   "id": "7b78c7b5",
   "metadata": {},
   "outputs": [],
   "source": [
    "venue = []\n",
    "for data in test:\n",
    "    v = data['venue']\n",
    "    temp = np.zeros(466)\n",
    "    if v == \"\":\n",
    "        temp[-1] = 1.\n",
    "    else:\n",
    "        temp[v] = 1.\n",
    "    venue.append(temp)\n",
    "venue = np.array(venue)"
   ]
  },
  {
   "cell_type": "code",
   "execution_count": 27,
   "id": "340574b8",
   "metadata": {},
   "outputs": [],
   "source": [
    "coauthors = []\n",
    "for data in test:\n",
    "    a = np.array(data['coauthors'])\n",
    "    temp = np.zeros(6576)\n",
    "    for i in a:\n",
    "        if i in ca_index: \n",
    "            temp[ca_index[i]] = 1.\n",
    "    coauthors.append(temp)\n",
    "coauthors = np.array(coauthors)"
   ]
  },
  {
   "cell_type": "code",
   "execution_count": 28,
   "id": "09d8e9fc",
   "metadata": {},
   "outputs": [],
   "source": [
    "test = np.concatenate((doc,venue), axis=1)\n",
    "test = np.concatenate((test,coauthors), axis=1)"
   ]
  },
  {
   "cell_type": "code",
   "execution_count": 29,
   "id": "2b429d13",
   "metadata": {},
   "outputs": [],
   "source": [
    "scaler = StandardScaler()\n",
    "test = scaler.fit_transform(test)"
   ]
  },
  {
   "cell_type": "markdown",
   "id": "dc57289f",
   "metadata": {},
   "source": [
    "## Train models"
   ]
  },
  {
   "cell_type": "code",
   "execution_count": 30,
   "id": "220765b8",
   "metadata": {},
   "outputs": [],
   "source": [
    "from sklearn.model_selection import train_test_split\n",
    "from tensorflow.keras.layers import Dense, Dropout\n",
    "from tensorflow.keras.models import Sequential\n",
    "from tensorflow.keras.optimizers import Adam\n",
    "from sklearn.metrics import f1_score\n",
    "import pandas as pd"
   ]
  },
  {
   "cell_type": "code",
   "execution_count": 31,
   "id": "dc8175c7",
   "metadata": {},
   "outputs": [
    {
     "data": {
      "text/plain": [
       "(25793, 7342)"
      ]
     },
     "execution_count": 31,
     "metadata": {},
     "output_type": "execute_result"
    }
   ],
   "source": [
    "x.shape"
   ]
  },
  {
   "cell_type": "code",
   "execution_count": 32,
   "id": "90b7d8d1",
   "metadata": {},
   "outputs": [
    {
     "data": {
      "text/plain": [
       "(25793, 101)"
      ]
     },
     "execution_count": 32,
     "metadata": {},
     "output_type": "execute_result"
    }
   ],
   "source": [
    "y.shape"
   ]
  },
  {
   "cell_type": "code",
   "execution_count": 33,
   "id": "45459360",
   "metadata": {},
   "outputs": [],
   "source": [
    "x_train, x_test, y_train, y_test = train_test_split(x, y, test_size=0.2, random_state = 90051)"
   ]
  },
  {
   "cell_type": "code",
   "execution_count": 35,
   "id": "6c32fffb",
   "metadata": {},
   "outputs": [],
   "source": [
    "weights = {}\n",
    "for i in range(101):\n",
    "    weights[i] = 1.\n",
    "weights[100] = 0.2"
   ]
  },
  {
   "cell_type": "code",
   "execution_count": 36,
   "id": "b963b8d9",
   "metadata": {},
   "outputs": [
    {
     "name": "stdout",
     "output_type": "stream",
     "text": [
      "Epoch 1/50\n"
     ]
    },
    {
     "name": "stderr",
     "output_type": "stream",
     "text": [
      "2022-10-13 16:11:32.136405: W tensorflow/core/platform/profile_utils/cpu_utils.cc:128] Failed to get CPU frequency: 0 Hz\n"
     ]
    },
    {
     "name": "stdout",
     "output_type": "stream",
     "text": [
      "162/162 [==============================] - 7s 39ms/step - loss: 0.1546\n",
      "Epoch 2/50\n",
      "162/162 [==============================] - 6s 39ms/step - loss: 0.0231\n",
      "Epoch 3/50\n",
      "162/162 [==============================] - 6s 40ms/step - loss: 0.0209\n",
      "Epoch 4/50\n",
      "162/162 [==============================] - 6s 40ms/step - loss: 0.0193\n",
      "Epoch 5/50\n",
      "162/162 [==============================] - 6s 39ms/step - loss: 0.0178\n",
      "Epoch 6/50\n",
      "162/162 [==============================] - 6s 39ms/step - loss: 0.0159\n",
      "Epoch 7/50\n",
      "162/162 [==============================] - 6s 39ms/step - loss: 0.0135\n",
      "Epoch 8/50\n",
      "162/162 [==============================] - 6s 39ms/step - loss: 0.0109\n",
      "Epoch 9/50\n",
      "162/162 [==============================] - 6s 39ms/step - loss: 0.0091\n",
      "Epoch 10/50\n",
      "162/162 [==============================] - 6s 39ms/step - loss: 0.0072\n",
      "Epoch 11/50\n",
      "162/162 [==============================] - 6s 39ms/step - loss: 0.0062\n",
      "Epoch 12/50\n",
      "162/162 [==============================] - 6s 40ms/step - loss: 0.0051\n",
      "Epoch 13/50\n",
      "162/162 [==============================] - 6s 39ms/step - loss: 0.0043\n",
      "Epoch 14/50\n",
      "162/162 [==============================] - 6s 40ms/step - loss: 0.0037\n",
      "Epoch 15/50\n",
      "162/162 [==============================] - 6s 39ms/step - loss: 0.0033\n",
      "Epoch 16/50\n",
      "162/162 [==============================] - 6s 39ms/step - loss: 0.0032\n",
      "Epoch 17/50\n",
      "162/162 [==============================] - 6s 39ms/step - loss: 0.0228\n",
      "Epoch 18/50\n",
      "162/162 [==============================] - 6s 40ms/step - loss: 0.0087\n",
      "Epoch 19/50\n",
      "162/162 [==============================] - 6s 40ms/step - loss: 0.0055\n",
      "Epoch 20/50\n",
      "162/162 [==============================] - 6s 40ms/step - loss: 0.0043\n",
      "Epoch 21/50\n",
      "162/162 [==============================] - 6s 40ms/step - loss: 0.0034\n",
      "Epoch 22/50\n",
      "162/162 [==============================] - 6s 40ms/step - loss: 0.0029\n",
      "Epoch 23/50\n",
      "162/162 [==============================] - 7s 40ms/step - loss: 0.0029\n",
      "Epoch 24/50\n",
      "162/162 [==============================] - 6s 40ms/step - loss: 0.0026\n",
      "Epoch 25/50\n",
      "162/162 [==============================] - 7s 40ms/step - loss: 0.0022\n",
      "Epoch 26/50\n",
      "162/162 [==============================] - 6s 40ms/step - loss: 0.0019\n",
      "Epoch 27/50\n",
      "162/162 [==============================] - 6s 40ms/step - loss: 0.0017\n",
      "Epoch 28/50\n",
      "162/162 [==============================] - 6s 40ms/step - loss: 0.0016\n",
      "Epoch 29/50\n",
      "162/162 [==============================] - 6s 40ms/step - loss: 0.0015\n",
      "Epoch 30/50\n",
      "162/162 [==============================] - 6s 40ms/step - loss: 0.0013\n",
      "Epoch 31/50\n",
      "162/162 [==============================] - 6s 40ms/step - loss: 0.0013\n",
      "Epoch 32/50\n",
      "162/162 [==============================] - 6s 39ms/step - loss: 0.0015\n",
      "Epoch 33/50\n",
      "162/162 [==============================] - 6s 40ms/step - loss: 0.0014\n",
      "Epoch 34/50\n",
      "162/162 [==============================] - 7s 40ms/step - loss: 0.0014\n",
      "Epoch 35/50\n",
      "162/162 [==============================] - 6s 40ms/step - loss: 0.0012\n",
      "Epoch 36/50\n",
      "162/162 [==============================] - 6s 40ms/step - loss: 0.0010\n",
      "Epoch 37/50\n",
      "162/162 [==============================] - 6s 40ms/step - loss: 0.0011\n",
      "Epoch 38/50\n",
      "162/162 [==============================] - 6s 40ms/step - loss: 9.3742e-04\n",
      "Epoch 39/50\n",
      "162/162 [==============================] - 7s 40ms/step - loss: 0.0011\n",
      "Epoch 40/50\n",
      "162/162 [==============================] - 7s 41ms/step - loss: 0.0010\n",
      "Epoch 41/50\n",
      "162/162 [==============================] - 6s 40ms/step - loss: 9.3499e-04\n",
      "Epoch 42/50\n",
      "162/162 [==============================] - 7s 42ms/step - loss: 8.5828e-04\n",
      "Epoch 43/50\n",
      "162/162 [==============================] - 7s 41ms/step - loss: 8.9168e-04\n",
      "Epoch 44/50\n",
      "162/162 [==============================] - 7s 40ms/step - loss: 7.8481e-04\n",
      "Epoch 45/50\n",
      "162/162 [==============================] - 7s 41ms/step - loss: 7.2832e-04\n",
      "Epoch 46/50\n",
      "162/162 [==============================] - 7s 41ms/step - loss: 7.9728e-04\n",
      "Epoch 47/50\n",
      "162/162 [==============================] - 6s 40ms/step - loss: 7.3885e-04\n",
      "Epoch 48/50\n",
      "162/162 [==============================] - 6s 40ms/step - loss: 6.8149e-04\n",
      "Epoch 49/50\n",
      "162/162 [==============================] - 6s 40ms/step - loss: 7.4693e-04\n",
      "Epoch 50/50\n",
      "162/162 [==============================] - 6s 40ms/step - loss: 8.2561e-04\n"
     ]
    },
    {
     "data": {
      "text/plain": [
       "<keras.callbacks.History at 0x2b69f7b80>"
      ]
     },
     "execution_count": 36,
     "metadata": {},
     "output_type": "execute_result"
    }
   ],
   "source": [
    "model = Sequential()\n",
    "model.add(Dense(2048,input_dim=x.shape[1],activation='tanh'))\n",
    "model.add(Dropout(0.3))\n",
    "model.add(Dense(512,activation='tanh'))\n",
    "model.add(Dropout(0.3))\n",
    "model.add(Dense(512,activation='tanh'))\n",
    "model.add(Dropout(0.3))\n",
    "model.add(Dense(256,activation='tanh'))\n",
    "model.add(Dropout(0.3))\n",
    "model.add(Dense(y.shape[1],activation='sigmoid'))\n",
    "\n",
    "model.compile(loss = 'binary_crossentropy', optimizer = Adam())\n",
    "model.fit(x_train, y_train, epochs=100, batch_size=128, class_weight=weights)"
   ]
  },
  {
   "cell_type": "code",
   "execution_count": 37,
   "id": "9f0ac3e0",
   "metadata": {},
   "outputs": [
    {
     "name": "stdout",
     "output_type": "stream",
     "text": [
      "645/645 [==============================] - 4s 6ms/step\n"
     ]
    }
   ],
   "source": [
    "train_pred = model.predict(x_train)\n",
    "train_pred = np.where(train_pred>0.5,1,0)"
   ]
  },
  {
   "cell_type": "code",
   "execution_count": 38,
   "id": "1a2971f3",
   "metadata": {},
   "outputs": [
    {
     "data": {
      "text/plain": [
       "0.9974321020314347"
      ]
     },
     "execution_count": 38,
     "metadata": {},
     "output_type": "execute_result"
    }
   ],
   "source": [
    "f1_score(y_true=y_train, y_pred=train_pred,average='samples')"
   ]
  },
  {
   "cell_type": "code",
   "execution_count": 39,
   "id": "1481d841",
   "metadata": {},
   "outputs": [
    {
     "name": "stdout",
     "output_type": "stream",
     "text": [
      "162/162 [==============================] - 1s 7ms/step\n"
     ]
    }
   ],
   "source": [
    "test_pred = model.predict(x_test)\n",
    "test_pred = np.where(test_pred>0.5,1,0)"
   ]
  },
  {
   "cell_type": "code",
   "execution_count": 40,
   "id": "a719b024",
   "metadata": {},
   "outputs": [
    {
     "data": {
      "text/plain": [
       "0.8743773395183385"
      ]
     },
     "execution_count": 40,
     "metadata": {},
     "output_type": "execute_result"
    }
   ],
   "source": [
    "f1_score(y_true=y_test, y_pred=test_pred,average='samples')"
   ]
  },
  {
   "cell_type": "code",
   "execution_count": 41,
   "id": "b21e4750",
   "metadata": {},
   "outputs": [
    {
     "name": "stdout",
     "output_type": "stream",
     "text": [
      "25/25 [==============================] - 0s 6ms/step\n"
     ]
    }
   ],
   "source": [
    "result = model.predict(test)"
   ]
  },
  {
   "cell_type": "code",
   "execution_count": 45,
   "id": "d76ea0e7",
   "metadata": {},
   "outputs": [
    {
     "data": {
      "text/html": [
       "<div>\n",
       "<style scoped>\n",
       "    .dataframe tbody tr th:only-of-type {\n",
       "        vertical-align: middle;\n",
       "    }\n",
       "\n",
       "    .dataframe tbody tr th {\n",
       "        vertical-align: top;\n",
       "    }\n",
       "\n",
       "    .dataframe thead th {\n",
       "        text-align: right;\n",
       "    }\n",
       "</style>\n",
       "<table border=\"1\" class=\"dataframe\">\n",
       "  <thead>\n",
       "    <tr style=\"text-align: right;\">\n",
       "      <th></th>\n",
       "      <th>Predict</th>\n",
       "    </tr>\n",
       "  </thead>\n",
       "  <tbody>\n",
       "    <tr>\n",
       "      <th>0</th>\n",
       "      <td>[92]</td>\n",
       "    </tr>\n",
       "    <tr>\n",
       "      <th>1</th>\n",
       "      <td>[]</td>\n",
       "    </tr>\n",
       "    <tr>\n",
       "      <th>2</th>\n",
       "      <td>[31]</td>\n",
       "    </tr>\n",
       "    <tr>\n",
       "      <th>3</th>\n",
       "      <td>[]</td>\n",
       "    </tr>\n",
       "    <tr>\n",
       "      <th>4</th>\n",
       "      <td>[32]</td>\n",
       "    </tr>\n",
       "    <tr>\n",
       "      <th>...</th>\n",
       "      <td>...</td>\n",
       "    </tr>\n",
       "    <tr>\n",
       "      <th>795</th>\n",
       "      <td>[]</td>\n",
       "    </tr>\n",
       "    <tr>\n",
       "      <th>796</th>\n",
       "      <td>[97]</td>\n",
       "    </tr>\n",
       "    <tr>\n",
       "      <th>797</th>\n",
       "      <td>[13]</td>\n",
       "    </tr>\n",
       "    <tr>\n",
       "      <th>798</th>\n",
       "      <td>[71]</td>\n",
       "    </tr>\n",
       "    <tr>\n",
       "      <th>799</th>\n",
       "      <td>[100]</td>\n",
       "    </tr>\n",
       "  </tbody>\n",
       "</table>\n",
       "<p>800 rows × 1 columns</p>\n",
       "</div>"
      ],
      "text/plain": [
       "    Predict\n",
       "0      [92]\n",
       "1        []\n",
       "2      [31]\n",
       "3        []\n",
       "4      [32]\n",
       "..      ...\n",
       "795      []\n",
       "796    [97]\n",
       "797    [13]\n",
       "798    [71]\n",
       "799   [100]\n",
       "\n",
       "[800 rows x 1 columns]"
      ]
     },
     "execution_count": 45,
     "metadata": {},
     "output_type": "execute_result"
    }
   ],
   "source": [
    "idx = [np.where(p>0.5) for p in result]\n",
    "df = pd.DataFrame(idx, columns=['Predict'])\n",
    "df"
   ]
  },
  {
   "cell_type": "code",
   "execution_count": 43,
   "id": "446c9d52",
   "metadata": {},
   "outputs": [],
   "source": [
    "df.to_csv('result.csv')"
   ]
  },
  {
   "cell_type": "code",
   "execution_count": null,
   "id": "8e1fcc88",
   "metadata": {},
   "outputs": [],
   "source": []
  }
 ],
 "metadata": {
  "kernelspec": {
   "display_name": "Python 3 (ipykernel)",
   "language": "python",
   "name": "python3"
  },
  "language_info": {
   "codemirror_mode": {
    "name": "ipython",
    "version": 3
   },
   "file_extension": ".py",
   "mimetype": "text/x-python",
   "name": "python",
   "nbconvert_exporter": "python",
   "pygments_lexer": "ipython3",
   "version": "3.8.13"
  }
 },
 "nbformat": 4,
 "nbformat_minor": 5
}
