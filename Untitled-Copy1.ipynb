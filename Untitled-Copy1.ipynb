{
 "cells": [
  {
   "cell_type": "code",
   "execution_count": 1,
   "id": "94e67787",
   "metadata": {},
   "outputs": [],
   "source": [
    "import json\n",
    "import numpy as np"
   ]
  },
  {
   "cell_type": "markdown",
   "id": "00831b13",
   "metadata": {},
   "source": [
    "## Data preprocessing"
   ]
  },
  {
   "cell_type": "code",
   "execution_count": 51,
   "id": "895c6c60",
   "metadata": {},
   "outputs": [],
   "source": [
    "with open(\"train.json\",\"r\") as f:\n",
    "    train = json.load(f)"
   ]
  },
  {
   "cell_type": "code",
   "execution_count": 3,
   "id": "897ef562",
   "metadata": {},
   "outputs": [],
   "source": [
    "with open(\"test.json\",\"r\") as f:\n",
    "    test = json.load(f)"
   ]
  },
  {
   "cell_type": "markdown",
   "id": "450bdbd7",
   "metadata": {},
   "source": [
    "### process train data"
   ]
  },
  {
   "cell_type": "code",
   "execution_count": 4,
   "id": "09e12989",
   "metadata": {},
   "outputs": [],
   "source": [
    "y = []\n",
    "for data in train:\n",
    "    authors = np.array(data['authors'])\n",
    "    prolific_authors = authors[authors<100]\n",
    "    label = np.zeros(101)\n",
    "    if len(prolific_authors) == 0:\n",
    "        label[-1] = 1.\n",
    "    else:\n",
    "        label[prolific_authors] = 1.\n",
    "    y.append(label)\n",
    "y = np.array(y)"
   ]
  },
  {
   "cell_type": "code",
   "execution_count": 5,
   "id": "44c5a821",
   "metadata": {},
   "outputs": [],
   "source": [
    "from gensim.models import Word2Vec\n",
    "from gensim.models.doc2vec import Doc2Vec, TaggedDocument"
   ]
  },
  {
   "cell_type": "code",
   "execution_count": 6,
   "id": "712be544",
   "metadata": {},
   "outputs": [],
   "source": [
    "words = []\n",
    "for data in train:\n",
    "    title = data['title']\n",
    "    abstract = data['abstract']\n",
    "    words.append(title+abstract)"
   ]
  },
  {
   "cell_type": "code",
   "execution_count": 7,
   "id": "a1d32ead",
   "metadata": {},
   "outputs": [],
   "source": [
    "documents = [TaggedDocument(doc, [i]) for i, doc in enumerate(words)]\n",
    "d2v = Doc2Vec(documents, vector_size=300, window=2, min_count=1)"
   ]
  },
  {
   "cell_type": "code",
   "execution_count": 8,
   "id": "9d92344f",
   "metadata": {},
   "outputs": [],
   "source": [
    "# model.infer_vector(np.asarray(words[0],dtype='str'))"
   ]
  },
  {
   "cell_type": "code",
   "execution_count": 9,
   "id": "4498bdba",
   "metadata": {},
   "outputs": [],
   "source": [
    "doc = []\n",
    "for data in train:\n",
    "    title = data['title']\n",
    "    abstract = data['abstract']\n",
    "    total = title + abstract\n",
    "    vec = d2v.infer_vector(np.asarray(total,dtype='str'))\n",
    "    doc.append(vec)\n",
    "doc = np.array(doc)"
   ]
  },
  {
   "cell_type": "code",
   "execution_count": 10,
   "id": "eee60ea4",
   "metadata": {},
   "outputs": [],
   "source": [
    "# doc.shape"
   ]
  },
  {
   "cell_type": "code",
   "execution_count": 11,
   "id": "5459f8c0",
   "metadata": {},
   "outputs": [],
   "source": [
    "# model = Word2Vec(sentences=words, vector_size=300, min_count=1)"
   ]
  },
  {
   "cell_type": "code",
   "execution_count": 12,
   "id": "7125fd20",
   "metadata": {},
   "outputs": [],
   "source": [
    "# word_vec = model.wv"
   ]
  },
  {
   "cell_type": "code",
   "execution_count": 13,
   "id": "0243119e",
   "metadata": {},
   "outputs": [],
   "source": [
    "# text = []\n",
    "# for data in train:\n",
    "#     title = data['title']\n",
    "#     abstract = data['abstract']\n",
    "#     total = title + abstract\n",
    "#     vec = np.zeros(300)\n",
    "#     for w in total:\n",
    "#         vec += word_vec[w]\n",
    "#     vec /= len(total)\n",
    "#     text.append(vec)\n",
    "# text = np.array(text)"
   ]
  },
  {
   "cell_type": "code",
   "execution_count": 14,
   "id": "b58688d0",
   "metadata": {},
   "outputs": [],
   "source": [
    "venue = []\n",
    "for data in train:\n",
    "    v = data['venue']\n",
    "    temp = np.zeros(466)\n",
    "    if v == \"\":\n",
    "        temp[-1] = 1.\n",
    "    else:\n",
    "        temp[v] = 1.\n",
    "    venue.append(temp)\n",
    "venue = np.array(venue)"
   ]
  },
  {
   "cell_type": "code",
   "execution_count": 52,
   "id": "116b0b99",
   "metadata": {},
   "outputs": [],
   "source": [
    "tmp = []\n",
    "for data in train:\n",
    "    a = data['authors']\n",
    "    v = data['venue']\n",
    "    if v == \"\":\n",
    "        tmp.append(a)\n",
    "    else:\n",
    "        tmp.append(a+[v])\n",
    "\n"
   ]
  },
  {
   "cell_type": "code",
   "execution_count": 54,
   "id": "f4a0eb5c",
   "metadata": {},
   "outputs": [],
   "source": [
    "documents = [TaggedDocument(doc, [i]) for i, doc in enumerate(tmp)]\n",
    "avlink = Doc2Vec(documents, vector_size=10, window=2, min_count=1)\n",
    "\n",
    "av = []\n",
    "for data in train:\n",
    "    a = data['authors']\n",
    "    v = data['venue']\n",
    "    if v == \"\":\n",
    "        vec = avlink.infer_vector(np.asarray(a,dtype='str'))\n",
    "    else:\n",
    "        vec = avlink.infer_vector(np.asarray(a+[v],dtype='str'))\n",
    "    av.append(vec)\n",
    "av = np.array(av)"
   ]
  },
  {
   "cell_type": "code",
   "execution_count": 58,
   "id": "e9f971a7",
   "metadata": {},
   "outputs": [],
   "source": [
    "x = np.concatenate((doc,av), axis=1)\n"
   ]
  },
  {
   "cell_type": "code",
   "execution_count": 59,
   "id": "b29a734b",
   "metadata": {},
   "outputs": [],
   "source": [
    "from sklearn.preprocessing import StandardScaler\n",
    "scaler = StandardScaler()\n",
    "x = scaler.fit_transform(x)"
   ]
  },
  {
   "cell_type": "code",
   "execution_count": 66,
   "id": "46bc5164",
   "metadata": {},
   "outputs": [
    {
     "data": {
      "text/plain": [
       "(25793, 310)"
      ]
     },
     "execution_count": 66,
     "metadata": {},
     "output_type": "execute_result"
    }
   ],
   "source": [
    "x.shape"
   ]
  },
  {
   "cell_type": "markdown",
   "id": "f0156afd",
   "metadata": {},
   "source": [
    "### process test data"
   ]
  },
  {
   "cell_type": "code",
   "execution_count": 61,
   "id": "63c646b7",
   "metadata": {},
   "outputs": [],
   "source": [
    "doc = []\n",
    "for data in test:\n",
    "    title = data['title']\n",
    "    abstract = data['abstract']\n",
    "    total = title + abstract\n",
    "    vec = d2v.infer_vector(np.asarray(total,dtype='str'))\n",
    "    doc.append(vec)\n",
    "doc = np.array(doc)"
   ]
  },
  {
   "cell_type": "code",
   "execution_count": 62,
   "id": "f7e5bf4d",
   "metadata": {},
   "outputs": [],
   "source": [
    "av = []\n",
    "for data in test:\n",
    "    a = data['coauthors']\n",
    "    v = data['venue']\n",
    "    if v == \"\":\n",
    "        vec = avlink.infer_vector(np.asarray(a,dtype='str'))\n",
    "    else:\n",
    "        vec = avlink.infer_vector(np.asarray(a+[v],dtype='str'))\n",
    "    av.append(vec)\n",
    "av = np.array(av)\n"
   ]
  },
  {
   "cell_type": "code",
   "execution_count": 63,
   "id": "4846fd08",
   "metadata": {},
   "outputs": [],
   "source": [
    "test = np.concatenate((doc,av), axis=1)\n"
   ]
  },
  {
   "cell_type": "code",
   "execution_count": 64,
   "id": "3d71f31e",
   "metadata": {},
   "outputs": [],
   "source": [
    "scaler = StandardScaler()\n",
    "test = scaler.fit_transform(test)"
   ]
  },
  {
   "cell_type": "code",
   "execution_count": 65,
   "id": "68f894e4",
   "metadata": {},
   "outputs": [
    {
     "data": {
      "text/plain": [
       "(800, 310)"
      ]
     },
     "execution_count": 65,
     "metadata": {},
     "output_type": "execute_result"
    }
   ],
   "source": [
    "test.shape"
   ]
  },
  {
   "cell_type": "markdown",
   "id": "dc57289f",
   "metadata": {},
   "source": [
    "## Train models"
   ]
  },
  {
   "cell_type": "code",
   "execution_count": 67,
   "id": "220765b8",
   "metadata": {},
   "outputs": [],
   "source": [
    "from sklearn.model_selection import train_test_split\n",
    "from tensorflow.keras.layers import Dense, Dropout\n",
    "from tensorflow.keras.models import Sequential\n",
    "from tensorflow.keras.optimizers import Adam\n",
    "from sklearn.metrics import f1_score\n",
    "import pandas as pd"
   ]
  },
  {
   "cell_type": "code",
   "execution_count": 68,
   "id": "dc8175c7",
   "metadata": {},
   "outputs": [
    {
     "data": {
      "text/plain": [
       "(25793, 310)"
      ]
     },
     "execution_count": 68,
     "metadata": {},
     "output_type": "execute_result"
    }
   ],
   "source": [
    "x.shape"
   ]
  },
  {
   "cell_type": "code",
   "execution_count": 69,
   "id": "90b7d8d1",
   "metadata": {},
   "outputs": [
    {
     "data": {
      "text/plain": [
       "(25793, 101)"
      ]
     },
     "execution_count": 69,
     "metadata": {},
     "output_type": "execute_result"
    }
   ],
   "source": [
    "y.shape"
   ]
  },
  {
   "cell_type": "code",
   "execution_count": 70,
   "id": "45459360",
   "metadata": {},
   "outputs": [],
   "source": [
    "x_train, x_test, y_train, y_test = train_test_split(x, y, test_size=0.2, random_state = 90051)"
   ]
  },
  {
   "cell_type": "code",
   "execution_count": 71,
   "id": "339e4fe2",
   "metadata": {},
   "outputs": [],
   "source": [
    "weights = {}\n",
    "for i in range(101):\n",
    "    weights[i] = 1.\n",
    "weights[100] = 0.2"
   ]
  },
  {
   "cell_type": "code",
   "execution_count": 72,
   "id": "b963b8d9",
   "metadata": {},
   "outputs": [
    {
     "name": "stdout",
     "output_type": "stream",
     "text": [
      "Epoch 1/100\n"
     ]
    },
    {
     "name": "stderr",
     "output_type": "stream",
     "text": [
      "2022-10-13 17:35:52.833558: W tensorflow/core/platform/profile_utils/cpu_utils.cc:128] Failed to get CPU frequency: 0 Hz\n"
     ]
    },
    {
     "name": "stdout",
     "output_type": "stream",
     "text": [
      "162/162 [==============================] - 2s 11ms/step - loss: 0.0952\n",
      "Epoch 2/100\n",
      "162/162 [==============================] - 2s 12ms/step - loss: 0.0238\n",
      "Epoch 3/100\n",
      "162/162 [==============================] - 2s 12ms/step - loss: 0.0235\n",
      "Epoch 4/100\n",
      "162/162 [==============================] - 2s 13ms/step - loss: 0.0234\n",
      "Epoch 5/100\n",
      "162/162 [==============================] - 2s 14ms/step - loss: 0.0232\n",
      "Epoch 6/100\n",
      "162/162 [==============================] - 2s 14ms/step - loss: 0.0231\n",
      "Epoch 7/100\n",
      "162/162 [==============================] - 2s 15ms/step - loss: 0.0228\n",
      "Epoch 8/100\n",
      "162/162 [==============================] - 2s 15ms/step - loss: 0.0226\n",
      "Epoch 9/100\n",
      "162/162 [==============================] - 2s 15ms/step - loss: 0.0223\n",
      "Epoch 10/100\n",
      "162/162 [==============================] - 2s 15ms/step - loss: 0.0220\n",
      "Epoch 11/100\n",
      "162/162 [==============================] - 2s 14ms/step - loss: 0.0216\n",
      "Epoch 12/100\n",
      "162/162 [==============================] - 2s 15ms/step - loss: 0.0214\n",
      "Epoch 13/100\n",
      "162/162 [==============================] - 2s 15ms/step - loss: 0.0210\n",
      "Epoch 14/100\n",
      "162/162 [==============================] - 2s 15ms/step - loss: 0.0208\n",
      "Epoch 15/100\n",
      "162/162 [==============================] - 2s 15ms/step - loss: 0.0204\n",
      "Epoch 16/100\n",
      "162/162 [==============================] - 2s 15ms/step - loss: 0.0201\n",
      "Epoch 17/100\n",
      "162/162 [==============================] - 3s 16ms/step - loss: 0.0198\n",
      "Epoch 18/100\n",
      "162/162 [==============================] - 3s 16ms/step - loss: 0.0194\n",
      "Epoch 19/100\n",
      "162/162 [==============================] - 3s 16ms/step - loss: 0.0192\n",
      "Epoch 20/100\n",
      "162/162 [==============================] - 3s 16ms/step - loss: 0.0431\n",
      "Epoch 21/100\n",
      "162/162 [==============================] - 3s 17ms/step - loss: 0.0236\n",
      "Epoch 22/100\n",
      "162/162 [==============================] - 3s 16ms/step - loss: 0.0232\n",
      "Epoch 23/100\n",
      "162/162 [==============================] - 3s 16ms/step - loss: 0.0231\n",
      "Epoch 24/100\n",
      "162/162 [==============================] - 3s 17ms/step - loss: 0.0230\n",
      "Epoch 25/100\n",
      "162/162 [==============================] - 3s 16ms/step - loss: 0.0233\n",
      "Epoch 26/100\n",
      "162/162 [==============================] - 3s 17ms/step - loss: 0.0228\n",
      "Epoch 27/100\n",
      "162/162 [==============================] - 3s 17ms/step - loss: 0.0226\n",
      "Epoch 28/100\n",
      "162/162 [==============================] - 3s 16ms/step - loss: 0.0223\n",
      "Epoch 29/100\n",
      "162/162 [==============================] - 3s 16ms/step - loss: 0.0221\n",
      "Epoch 30/100\n",
      "162/162 [==============================] - 3s 16ms/step - loss: 0.0219\n",
      "Epoch 31/100\n",
      "162/162 [==============================] - 3s 16ms/step - loss: 0.0216\n",
      "Epoch 32/100\n",
      "162/162 [==============================] - 3s 16ms/step - loss: 0.0213\n",
      "Epoch 33/100\n",
      "162/162 [==============================] - 3s 16ms/step - loss: 0.0210\n",
      "Epoch 34/100\n",
      "162/162 [==============================] - 3s 17ms/step - loss: 0.0208\n",
      "Epoch 35/100\n",
      "162/162 [==============================] - 3s 16ms/step - loss: 0.0205\n",
      "Epoch 36/100\n",
      "162/162 [==============================] - 3s 16ms/step - loss: 0.0203\n",
      "Epoch 37/100\n",
      "162/162 [==============================] - 3s 16ms/step - loss: 0.0199\n",
      "Epoch 38/100\n",
      "162/162 [==============================] - 3s 16ms/step - loss: 0.0198\n",
      "Epoch 39/100\n",
      "162/162 [==============================] - 3s 16ms/step - loss: 0.0193\n",
      "Epoch 40/100\n",
      "162/162 [==============================] - 3s 17ms/step - loss: 0.0191\n",
      "Epoch 41/100\n",
      "162/162 [==============================] - 3s 16ms/step - loss: 0.0188\n",
      "Epoch 42/100\n",
      "162/162 [==============================] - 3s 17ms/step - loss: 0.0186\n",
      "Epoch 43/100\n",
      "162/162 [==============================] - 3s 17ms/step - loss: 0.0183\n",
      "Epoch 44/100\n",
      "162/162 [==============================] - 3s 16ms/step - loss: 0.0181\n",
      "Epoch 45/100\n",
      "162/162 [==============================] - 3s 16ms/step - loss: 0.0178\n",
      "Epoch 46/100\n",
      "162/162 [==============================] - 2s 15ms/step - loss: 0.0177\n",
      "Epoch 47/100\n",
      "162/162 [==============================] - 2s 15ms/step - loss: 0.0219\n",
      "Epoch 48/100\n",
      "162/162 [==============================] - 2s 15ms/step - loss: 0.0211\n",
      "Epoch 49/100\n",
      "162/162 [==============================] - 2s 15ms/step - loss: 0.0196\n",
      "Epoch 50/100\n",
      "162/162 [==============================] - 2s 15ms/step - loss: 0.0191\n",
      "Epoch 51/100\n",
      "162/162 [==============================] - 2s 15ms/step - loss: 0.0184\n",
      "Epoch 52/100\n",
      "162/162 [==============================] - 2s 15ms/step - loss: 0.0180\n",
      "Epoch 53/100\n",
      "162/162 [==============================] - 3s 16ms/step - loss: 0.0175\n",
      "Epoch 54/100\n",
      "162/162 [==============================] - 2s 15ms/step - loss: 0.0172\n",
      "Epoch 55/100\n",
      "162/162 [==============================] - 2s 15ms/step - loss: 0.0169\n",
      "Epoch 56/100\n",
      "162/162 [==============================] - 2s 15ms/step - loss: 0.0166\n",
      "Epoch 57/100\n",
      "162/162 [==============================] - 3s 15ms/step - loss: 0.0164\n",
      "Epoch 58/100\n",
      "162/162 [==============================] - 2s 15ms/step - loss: 0.0162\n",
      "Epoch 59/100\n",
      "162/162 [==============================] - 2s 15ms/step - loss: 0.0161\n",
      "Epoch 60/100\n",
      "162/162 [==============================] - 2s 15ms/step - loss: 0.0158\n",
      "Epoch 61/100\n",
      "162/162 [==============================] - 2s 15ms/step - loss: 0.0157\n",
      "Epoch 62/100\n",
      "162/162 [==============================] - 2s 14ms/step - loss: 0.0154\n",
      "Epoch 63/100\n",
      "162/162 [==============================] - 2s 15ms/step - loss: 0.0153\n",
      "Epoch 64/100\n",
      "162/162 [==============================] - 3s 16ms/step - loss: 0.0152\n",
      "Epoch 65/100\n",
      "162/162 [==============================] - 2s 15ms/step - loss: 0.0149\n",
      "Epoch 66/100\n",
      "162/162 [==============================] - 2s 15ms/step - loss: 0.0147\n",
      "Epoch 67/100\n",
      "162/162 [==============================] - 2s 15ms/step - loss: 0.0146\n",
      "Epoch 68/100\n",
      "162/162 [==============================] - 2s 15ms/step - loss: 0.0145\n",
      "Epoch 69/100\n",
      "162/162 [==============================] - 2s 15ms/step - loss: 0.0143\n",
      "Epoch 70/100\n",
      "162/162 [==============================] - 2s 15ms/step - loss: 0.0140\n",
      "Epoch 71/100\n",
      "162/162 [==============================] - 2s 15ms/step - loss: 0.0139\n",
      "Epoch 72/100\n",
      "162/162 [==============================] - 2s 15ms/step - loss: 0.0138\n",
      "Epoch 73/100\n",
      "162/162 [==============================] - 2s 14ms/step - loss: 0.0136\n",
      "Epoch 74/100\n",
      "162/162 [==============================] - 2s 14ms/step - loss: 0.0132\n",
      "Epoch 75/100\n",
      "162/162 [==============================] - 2s 15ms/step - loss: 0.0132\n",
      "Epoch 76/100\n",
      "162/162 [==============================] - 2s 15ms/step - loss: 0.0131\n",
      "Epoch 77/100\n",
      "162/162 [==============================] - 2s 15ms/step - loss: 0.0131\n",
      "Epoch 78/100\n",
      "162/162 [==============================] - 2s 15ms/step - loss: 0.0128\n",
      "Epoch 79/100\n",
      "162/162 [==============================] - 2s 15ms/step - loss: 0.0127\n",
      "Epoch 80/100\n",
      "162/162 [==============================] - 2s 15ms/step - loss: 0.0124\n",
      "Epoch 81/100\n",
      "162/162 [==============================] - 2s 15ms/step - loss: 0.0125\n",
      "Epoch 82/100\n",
      "162/162 [==============================] - 2s 15ms/step - loss: 0.0123\n",
      "Epoch 83/100\n",
      "162/162 [==============================] - 2s 14ms/step - loss: 0.0122\n",
      "Epoch 84/100\n",
      "162/162 [==============================] - 2s 14ms/step - loss: 0.0120\n",
      "Epoch 85/100\n",
      "162/162 [==============================] - 2s 14ms/step - loss: 0.0119\n",
      "Epoch 86/100\n",
      "162/162 [==============================] - 2s 15ms/step - loss: 0.0117\n",
      "Epoch 87/100\n",
      "162/162 [==============================] - 2s 15ms/step - loss: 0.0117\n",
      "Epoch 88/100\n",
      "162/162 [==============================] - 2s 14ms/step - loss: 0.0114\n",
      "Epoch 89/100\n",
      "162/162 [==============================] - 2s 15ms/step - loss: 0.0113\n",
      "Epoch 90/100\n",
      "162/162 [==============================] - 2s 14ms/step - loss: 0.0112\n",
      "Epoch 91/100\n",
      "162/162 [==============================] - 2s 15ms/step - loss: 0.0110\n",
      "Epoch 92/100\n",
      "162/162 [==============================] - 2s 14ms/step - loss: 0.0110\n",
      "Epoch 93/100\n",
      "162/162 [==============================] - 2s 15ms/step - loss: 0.0109\n",
      "Epoch 94/100\n",
      "162/162 [==============================] - 2s 14ms/step - loss: 0.0108\n",
      "Epoch 95/100\n",
      "162/162 [==============================] - 2s 15ms/step - loss: 0.0107\n",
      "Epoch 96/100\n",
      "162/162 [==============================] - 2s 15ms/step - loss: 0.0106\n",
      "Epoch 97/100\n",
      "162/162 [==============================] - 2s 15ms/step - loss: 0.0104\n",
      "Epoch 98/100\n",
      "162/162 [==============================] - 2s 14ms/step - loss: 0.0103\n",
      "Epoch 99/100\n",
      "162/162 [==============================] - 2s 14ms/step - loss: 0.0102\n",
      "Epoch 100/100\n",
      "162/162 [==============================] - 2s 14ms/step - loss: 0.0101\n"
     ]
    },
    {
     "data": {
      "text/plain": [
       "<keras.callbacks.History at 0x2b1e28520>"
      ]
     },
     "execution_count": 72,
     "metadata": {},
     "output_type": "execute_result"
    }
   ],
   "source": [
    "model = Sequential()\n",
    "model.add(Dense(2048,input_dim=x.shape[1],activation='tanh'))\n",
    "model.add(Dropout(0.3))\n",
    "model.add(Dense(512,activation='tanh'))\n",
    "model.add(Dropout(0.3))\n",
    "model.add(Dense(512,activation='tanh'))\n",
    "model.add(Dropout(0.3))\n",
    "model.add(Dense(256,activation='tanh'))\n",
    "model.add(Dropout(0.3))\n",
    "model.add(Dense(y.shape[1],activation='sigmoid'))\n",
    "\n",
    "model.compile(loss = 'binary_crossentropy', optimizer = Adam())\n",
    "model.fit(x_train, y_train, epochs=100, batch_size=128, class_weight=weights)"
   ]
  },
  {
   "cell_type": "code",
   "execution_count": 73,
   "id": "01122c00",
   "metadata": {},
   "outputs": [
    {
     "name": "stdout",
     "output_type": "stream",
     "text": [
      "645/645 [==============================] - 2s 3ms/step\n"
     ]
    }
   ],
   "source": [
    "train_pred = model.predict(x_train)\n",
    "train_pred = np.where(train_pred>0.5,1,0)"
   ]
  },
  {
   "cell_type": "code",
   "execution_count": 74,
   "id": "c7f45238",
   "metadata": {},
   "outputs": [
    {
     "data": {
      "text/plain": [
       "0.8033351683066257"
      ]
     },
     "execution_count": 74,
     "metadata": {},
     "output_type": "execute_result"
    }
   ],
   "source": [
    "f1_score(y_true=y_train, y_pred=train_pred,average='samples')"
   ]
  },
  {
   "cell_type": "code",
   "execution_count": 75,
   "id": "2248a5e9",
   "metadata": {},
   "outputs": [
    {
     "name": "stdout",
     "output_type": "stream",
     "text": [
      "162/162 [==============================] - 1s 3ms/step\n"
     ]
    }
   ],
   "source": [
    "test_pred = model.predict(x_test)\n",
    "test_pred = np.where(test_pred>0.5,1,0)"
   ]
  },
  {
   "cell_type": "code",
   "execution_count": 76,
   "id": "d37547c7",
   "metadata": {},
   "outputs": [
    {
     "data": {
      "text/plain": [
       "0.47367060799896626"
      ]
     },
     "execution_count": 76,
     "metadata": {},
     "output_type": "execute_result"
    }
   ],
   "source": [
    "f1_score(y_true=y_test, y_pred=test_pred,average='samples')"
   ]
  },
  {
   "cell_type": "code",
   "execution_count": 41,
   "id": "657f738b",
   "metadata": {},
   "outputs": [
    {
     "name": "stdout",
     "output_type": "stream",
     "text": [
      "25/25 [==============================] - 0s 6ms/step\n"
     ]
    }
   ],
   "source": [
    "result = model.predict(test)"
   ]
  },
  {
   "cell_type": "code",
   "execution_count": 45,
   "id": "113e4e55",
   "metadata": {},
   "outputs": [
    {
     "data": {
      "text/html": [
       "<div>\n",
       "<style scoped>\n",
       "    .dataframe tbody tr th:only-of-type {\n",
       "        vertical-align: middle;\n",
       "    }\n",
       "\n",
       "    .dataframe tbody tr th {\n",
       "        vertical-align: top;\n",
       "    }\n",
       "\n",
       "    .dataframe thead th {\n",
       "        text-align: right;\n",
       "    }\n",
       "</style>\n",
       "<table border=\"1\" class=\"dataframe\">\n",
       "  <thead>\n",
       "    <tr style=\"text-align: right;\">\n",
       "      <th></th>\n",
       "      <th>Predict</th>\n",
       "    </tr>\n",
       "  </thead>\n",
       "  <tbody>\n",
       "    <tr>\n",
       "      <th>0</th>\n",
       "      <td>[92]</td>\n",
       "    </tr>\n",
       "    <tr>\n",
       "      <th>1</th>\n",
       "      <td>[]</td>\n",
       "    </tr>\n",
       "    <tr>\n",
       "      <th>2</th>\n",
       "      <td>[31]</td>\n",
       "    </tr>\n",
       "    <tr>\n",
       "      <th>3</th>\n",
       "      <td>[]</td>\n",
       "    </tr>\n",
       "    <tr>\n",
       "      <th>4</th>\n",
       "      <td>[32]</td>\n",
       "    </tr>\n",
       "    <tr>\n",
       "      <th>...</th>\n",
       "      <td>...</td>\n",
       "    </tr>\n",
       "    <tr>\n",
       "      <th>795</th>\n",
       "      <td>[]</td>\n",
       "    </tr>\n",
       "    <tr>\n",
       "      <th>796</th>\n",
       "      <td>[97]</td>\n",
       "    </tr>\n",
       "    <tr>\n",
       "      <th>797</th>\n",
       "      <td>[13]</td>\n",
       "    </tr>\n",
       "    <tr>\n",
       "      <th>798</th>\n",
       "      <td>[71]</td>\n",
       "    </tr>\n",
       "    <tr>\n",
       "      <th>799</th>\n",
       "      <td>[100]</td>\n",
       "    </tr>\n",
       "  </tbody>\n",
       "</table>\n",
       "<p>800 rows × 1 columns</p>\n",
       "</div>"
      ],
      "text/plain": [
       "    Predict\n",
       "0      [92]\n",
       "1        []\n",
       "2      [31]\n",
       "3        []\n",
       "4      [32]\n",
       "..      ...\n",
       "795      []\n",
       "796    [97]\n",
       "797    [13]\n",
       "798    [71]\n",
       "799   [100]\n",
       "\n",
       "[800 rows x 1 columns]"
      ]
     },
     "execution_count": 45,
     "metadata": {},
     "output_type": "execute_result"
    }
   ],
   "source": [
    "idx = [np.where(p>0.5) for p in result]\n",
    "df = pd.DataFrame(idx, columns=['Predict'])\n",
    "df"
   ]
  },
  {
   "cell_type": "code",
   "execution_count": 43,
   "id": "87e74c93",
   "metadata": {},
   "outputs": [],
   "source": [
    "df.to_csv('result.csv')"
   ]
  },
  {
   "cell_type": "code",
   "execution_count": null,
   "id": "0661f420",
   "metadata": {},
   "outputs": [],
   "source": []
  }
 ],
 "metadata": {
  "kernelspec": {
   "display_name": "Python 3 (ipykernel)",
   "language": "python",
   "name": "python3"
  },
  "language_info": {
   "codemirror_mode": {
    "name": "ipython",
    "version": 3
   },
   "file_extension": ".py",
   "mimetype": "text/x-python",
   "name": "python",
   "nbconvert_exporter": "python",
   "pygments_lexer": "ipython3",
   "version": "3.8.13"
  }
 },
 "nbformat": 4,
 "nbformat_minor": 5
}
