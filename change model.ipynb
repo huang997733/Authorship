{
 "cells": [
  {
   "cell_type": "code",
   "execution_count": 1,
   "id": "94e67787",
   "metadata": {},
   "outputs": [],
   "source": [
    "import json\n",
    "import numpy as np"
   ]
  },
  {
   "cell_type": "markdown",
   "id": "00831b13",
   "metadata": {},
   "source": [
    "## Data preprocessing"
   ]
  },
  {
   "cell_type": "code",
   "execution_count": 2,
   "id": "895c6c60",
   "metadata": {},
   "outputs": [],
   "source": [
    "with open(\"train.json\",\"r\") as f:\n",
    "    train = json.load(f)"
   ]
  },
  {
   "cell_type": "code",
   "execution_count": 124,
   "id": "897ef562",
   "metadata": {},
   "outputs": [],
   "source": [
    "with open(\"test.json\",\"r\") as f:\n",
    "    test = json.load(f)"
   ]
  },
  {
   "cell_type": "markdown",
   "id": "716fc053",
   "metadata": {},
   "source": [
    "### process train data"
   ]
  },
  {
   "cell_type": "code",
   "execution_count": 4,
   "id": "09e12989",
   "metadata": {},
   "outputs": [],
   "source": [
    "y = []\n",
    "for data in train:\n",
    "    authors = np.array(data['authors'])\n",
    "    prolific_authors = authors[authors<100]\n",
    "    label = np.zeros(101)\n",
    "    if len(prolific_authors) == 0:\n",
    "        label[-1] = 1.\n",
    "    else:\n",
    "        label[prolific_authors] = 1.\n",
    "    y.append(label)\n",
    "y = np.array(y)"
   ]
  },
  {
   "cell_type": "code",
   "execution_count": 5,
   "id": "44c5a821",
   "metadata": {},
   "outputs": [],
   "source": [
    "from gensim.models import Word2Vec\n",
    "from gensim.models.doc2vec import Doc2Vec, TaggedDocument"
   ]
  },
  {
   "cell_type": "code",
   "execution_count": 6,
   "id": "712be544",
   "metadata": {},
   "outputs": [],
   "source": [
    "titles = []\n",
    "abstracts = []\n",
    "for data in train:\n",
    "    title = data['title']\n",
    "    abstract = data['abstract']\n",
    "    titles.append(title)\n",
    "    abstracts.append(abstract)"
   ]
  },
  {
   "cell_type": "code",
   "execution_count": 7,
   "id": "a1d32ead",
   "metadata": {},
   "outputs": [],
   "source": [
    "documents = [TaggedDocument(doc, [i]) for i, doc in enumerate(titles+abstracts)]\n",
    "d2v = Doc2Vec(documents, vector_size=300, window=2, min_count=1)"
   ]
  },
  {
   "cell_type": "code",
   "execution_count": 8,
   "id": "4498bdba",
   "metadata": {},
   "outputs": [],
   "source": [
    "doc = []\n",
    "for data in train:\n",
    "    title = data['title']\n",
    "    abstract = data['abstract']\n",
    "    vec = (d2v.infer_vector(np.asarray(title,dtype='str'))+d2v.infer_vector(np.asarray(abstract,dtype='str')))/2\n",
    "    doc.append(vec)\n",
    "doc = np.array(doc)"
   ]
  },
  {
   "cell_type": "code",
   "execution_count": 9,
   "id": "09640a5c",
   "metadata": {},
   "outputs": [],
   "source": [
    "def pos_embd(length, d, n=10000):\n",
    "    P = np.zeros((length,d))\n",
    "    for i in range(length):\n",
    "        for j in range(int(d/2)):\n",
    "            P[i, 2*j] = np.sin(i/(n**(2*j/d))) \n",
    "            P[i, 2*j+1] = np.cos(i/(n**(2*j/d)))\n",
    "    return P"
   ]
  },
  {
   "cell_type": "code",
   "execution_count": 10,
   "id": "4eb26ebe",
   "metadata": {},
   "outputs": [],
   "source": [
    "venue_embd = pos_embd(466,4)"
   ]
  },
  {
   "cell_type": "code",
   "execution_count": 11,
   "id": "b58688d0",
   "metadata": {},
   "outputs": [],
   "source": [
    "venue = []\n",
    "for data in train:\n",
    "    v = data['venue']\n",
    "    if v == \"\":\n",
    "        venue.append(venue_embd[-1])\n",
    "    else:\n",
    "        venue.append(venue_embd[v])\n",
    "venue = np.array(venue)"
   ]
  },
  {
   "cell_type": "code",
   "execution_count": 12,
   "id": "cd7b28a2",
   "metadata": {},
   "outputs": [],
   "source": [
    "cas = {}\n",
    "for data in train:\n",
    "    a = np.array(data['authors'])\n",
    "    pa = a[a<100]\n",
    "    ca = a[a>=100]\n",
    "    if len(pa) != 0:\n",
    "        for author in ca:\n",
    "            cas[author] = 1"
   ]
  },
  {
   "cell_type": "code",
   "execution_count": 13,
   "id": "8dc73e23",
   "metadata": {},
   "outputs": [],
   "source": [
    "ca_list = list(cas.keys())"
   ]
  },
  {
   "cell_type": "code",
   "execution_count": 14,
   "id": "7ed79675",
   "metadata": {},
   "outputs": [
    {
     "data": {
      "text/plain": [
       "6575"
      ]
     },
     "execution_count": 14,
     "metadata": {},
     "output_type": "execute_result"
    }
   ],
   "source": [
    "len(ca_list)"
   ]
  },
  {
   "cell_type": "code",
   "execution_count": 15,
   "id": "392c1555",
   "metadata": {},
   "outputs": [],
   "source": [
    "ca_index = {}\n",
    "for i, d in enumerate(ca_list):\n",
    "    ca_index[d] = i"
   ]
  },
  {
   "cell_type": "code",
   "execution_count": 16,
   "id": "51ee21e5",
   "metadata": {},
   "outputs": [],
   "source": [
    "coauthors_train = []\n",
    "for data in train:\n",
    "    a = np.array(data['authors'])\n",
    "    pa = a[a<100]\n",
    "    ca = a[a>=100]\n",
    "    temp = np.zeros(6576)\n",
    "    if len(pa) == 0:\n",
    "        temp[-1] = 1.\n",
    "    else:\n",
    "        for x in ca:\n",
    "            temp[ca_index[x]] = 1.\n",
    "    coauthors_train.append(temp)\n",
    "coauthors_train = np.array(coauthors_train)"
   ]
  },
  {
   "cell_type": "code",
   "execution_count": 17,
   "id": "84615807",
   "metadata": {},
   "outputs": [],
   "source": [
    "x = np.concatenate((doc,venue), axis=1)"
   ]
  },
  {
   "cell_type": "code",
   "execution_count": 19,
   "id": "e02d5a12",
   "metadata": {},
   "outputs": [],
   "source": [
    "x = np.concatenate((x,coauthors_train), axis=1)"
   ]
  },
  {
   "cell_type": "code",
   "execution_count": 20,
   "id": "9a17b8b1",
   "metadata": {},
   "outputs": [],
   "source": [
    "from sklearn.preprocessing import StandardScaler"
   ]
  },
  {
   "cell_type": "code",
   "execution_count": 21,
   "id": "c867fab9",
   "metadata": {},
   "outputs": [],
   "source": [
    "scaler = StandardScaler()\n",
    "x = scaler.fit_transform(x)"
   ]
  },
  {
   "cell_type": "code",
   "execution_count": null,
   "id": "608ae7e0",
   "metadata": {},
   "outputs": [],
   "source": []
  },
  {
   "cell_type": "markdown",
   "id": "7bfe2cde",
   "metadata": {},
   "source": [
    "### process test data"
   ]
  },
  {
   "cell_type": "code",
   "execution_count": null,
   "id": "ab283376",
   "metadata": {},
   "outputs": [],
   "source": []
  },
  {
   "cell_type": "code",
   "execution_count": 22,
   "id": "fdd6ccfa",
   "metadata": {},
   "outputs": [],
   "source": [
    "doc = []\n",
    "for data in test:\n",
    "    title = data['title']\n",
    "    abstract = data['abstract']\n",
    "\n",
    "    vec = (d2v.infer_vector(np.asarray(title,dtype='str'))+d2v.infer_vector(np.asarray(abstract,dtype='str')))/2\n",
    "    doc.append(vec)\n",
    "doc = np.array(doc)"
   ]
  },
  {
   "cell_type": "code",
   "execution_count": 23,
   "id": "7b78c7b5",
   "metadata": {},
   "outputs": [],
   "source": [
    "venue = []\n",
    "for data in test:\n",
    "    v = data['venue']\n",
    "    if v == \"\":\n",
    "        venue.append(venue_embd[-1])\n",
    "    else:\n",
    "        venue.append(venue_embd[v])\n",
    "venue = np.array(venue)"
   ]
  },
  {
   "cell_type": "code",
   "execution_count": 24,
   "id": "340574b8",
   "metadata": {},
   "outputs": [],
   "source": [
    "coauthors = []\n",
    "for data in test:\n",
    "    a = np.array(data['coauthors'])\n",
    "    temp = np.zeros(6576)\n",
    "    for i in a:\n",
    "        if i in ca_index: \n",
    "            temp[ca_index[i]] = 1.\n",
    "    coauthors.append(temp)\n",
    "coauthors = np.array(coauthors)"
   ]
  },
  {
   "cell_type": "code",
   "execution_count": 25,
   "id": "09d8e9fc",
   "metadata": {},
   "outputs": [],
   "source": [
    "test = np.concatenate((doc,venue), axis=1)\n",
    "test = np.concatenate((test,coauthors), axis=1)"
   ]
  },
  {
   "cell_type": "code",
   "execution_count": 26,
   "id": "2b429d13",
   "metadata": {},
   "outputs": [],
   "source": [
    "scaler = StandardScaler()\n",
    "test = scaler.fit_transform(test)"
   ]
  },
  {
   "cell_type": "markdown",
   "id": "dc57289f",
   "metadata": {},
   "source": [
    "## Train models"
   ]
  },
  {
   "cell_type": "code",
   "execution_count": 95,
   "id": "220765b8",
   "metadata": {},
   "outputs": [],
   "source": [
    "from sklearn.model_selection import train_test_split\n",
    "from tensorflow.keras.layers import Dense, Dropout\n",
    "from tensorflow.keras.models import Sequential\n",
    "from tensorflow.keras.optimizers import Adam\n",
    "from sklearn.metrics import f1_score\n",
    "import pandas as pd\n",
    "from tensorflow.keras.optimizers.schedules import PolynomialDecay\n",
    "from tensorflow.keras.layers import LSTM\n",
    "from tensorflow.keras.layers import Embedding, SpatialDropout1D"
   ]
  },
  {
   "cell_type": "code",
   "execution_count": 75,
   "id": "dc8175c7",
   "metadata": {},
   "outputs": [
    {
     "data": {
      "text/plain": [
       "(25793, 6880)"
      ]
     },
     "execution_count": 75,
     "metadata": {},
     "output_type": "execute_result"
    }
   ],
   "source": [
    "x.shape"
   ]
  },
  {
   "cell_type": "code",
   "execution_count": 76,
   "id": "90b7d8d1",
   "metadata": {},
   "outputs": [
    {
     "data": {
      "text/plain": [
       "(25793, 101)"
      ]
     },
     "execution_count": 76,
     "metadata": {},
     "output_type": "execute_result"
    }
   ],
   "source": [
    "y.shape"
   ]
  },
  {
   "cell_type": "code",
   "execution_count": 126,
   "id": "df6b0897",
   "metadata": {},
   "outputs": [
    {
     "data": {
      "text/plain": [
       "0.7107742410731593"
      ]
     },
     "execution_count": 126,
     "metadata": {},
     "output_type": "execute_result"
    }
   ],
   "source": [
    "negative = np.where(y[:,-1] == 1.)[0]\n",
    "positive = np.where(y[:,-1] != 1.)[0]\n",
    "negative.shape[0]/x.shape[0]"
   ]
  },
  {
   "cell_type": "code",
   "execution_count": 77,
   "id": "45459360",
   "metadata": {},
   "outputs": [],
   "source": [
    "x_train, x_test, y_train, y_test = train_test_split(x, y, test_size=0.3, random_state = 90051)"
   ]
  },
  {
   "cell_type": "code",
   "execution_count": 79,
   "id": "6c32fffb",
   "metadata": {},
   "outputs": [],
   "source": [
    "weights = {}\n",
    "for i in range(101):\n",
    "    weights[i] = 1.\n",
    "weights[100] = 0.3"
   ]
  },
  {
   "cell_type": "code",
   "execution_count": 114,
   "id": "b963b8d9",
   "metadata": {},
   "outputs": [
    {
     "name": "stdout",
     "output_type": "stream",
     "text": [
      "Model: \"sequential_38\"\n",
      "_________________________________________________________________\n",
      " Layer (type)                Output Shape              Param #   \n",
      "=================================================================\n",
      " dense_104 (Dense)           (None, 1024)              7046144   \n",
      "                                                                 \n",
      " dropout_71 (Dropout)        (None, 1024)              0         \n",
      "                                                                 \n",
      " dense_105 (Dense)           (None, 512)               524800    \n",
      "                                                                 \n",
      " dropout_72 (Dropout)        (None, 512)               0         \n",
      "                                                                 \n",
      " dense_106 (Dense)           (None, 256)               131328    \n",
      "                                                                 \n",
      " dropout_73 (Dropout)        (None, 256)               0         \n",
      "                                                                 \n",
      " dense_107 (Dense)           (None, 101)               25957     \n",
      "                                                                 \n",
      "=================================================================\n",
      "Total params: 7,728,229\n",
      "Trainable params: 7,728,229\n",
      "Non-trainable params: 0\n",
      "_________________________________________________________________\n"
     ]
    }
   ],
   "source": [
    "model = Sequential()\n",
    "model.add(Dense(1024,input_dim=x.shape[1],activation='tanh'))\n",
    "model.add(Dropout(0.3))\n",
    "model.add(Dense(512,activation='tanh'))\n",
    "model.add(Dropout(0.3))\n",
    "model.add(Dense(512,activation='tanh'))\n",
    "model.add(Dropout(0.3))\n",
    "model.add(Dense(256,activation='tanh'))\n",
    "model.add(Dropout(0.3))\n",
    "model.add(Dense(y.shape[1],activation='sigmoid'))\n",
    "model.summary()\n",
    "lr_schedule = PolynomialDecay(initial_learning_rate=0.001,decay_steps=150,end_learning_rate=0.00025,power=0.5)\n",
    "model.compile(loss = 'binary_crossentropy', optimizer = Adam(lr_schedule))\n",
    "model.fit(x_train, y_train, epochs=100, batch_size=128, class_weight=weights)"
   ]
  },
  {
   "cell_type": "code",
   "execution_count": 70,
   "id": "9f0ac3e0",
   "metadata": {},
   "outputs": [
    {
     "name": "stdout",
     "output_type": "stream",
     "text": [
      "565/565 [==============================] - 3s 5ms/step\n"
     ]
    }
   ],
   "source": [
    "train_pred = model.predict(x_train)\n",
    "train_pred = np.where(train_pred>0.5,1,0)"
   ]
  },
  {
   "cell_type": "code",
   "execution_count": 71,
   "id": "1a2971f3",
   "metadata": {},
   "outputs": [
    {
     "data": {
      "text/plain": [
       "0.9999704606295579"
      ]
     },
     "execution_count": 71,
     "metadata": {},
     "output_type": "execute_result"
    }
   ],
   "source": [
    "f1_score(y_true=y_train, y_pred=train_pred,average='samples')"
   ]
  },
  {
   "cell_type": "code",
   "execution_count": 72,
   "id": "1481d841",
   "metadata": {},
   "outputs": [
    {
     "name": "stdout",
     "output_type": "stream",
     "text": [
      "242/242 [==============================] - 1s 5ms/step\n"
     ]
    }
   ],
   "source": [
    "test_pred = model.predict(x_test)\n",
    "test_pred = np.where(test_pred>0.5,1,0)"
   ]
  },
  {
   "cell_type": "code",
   "execution_count": 73,
   "id": "a719b024",
   "metadata": {},
   "outputs": [
    {
     "data": {
      "text/plain": [
       "0.8944516420601412"
      ]
     },
     "execution_count": 73,
     "metadata": {},
     "output_type": "execute_result"
    }
   ],
   "source": [
    "f1_score(y_true=y_test, y_pred=test_pred,average='samples')"
   ]
  },
  {
   "cell_type": "code",
   "execution_count": 37,
   "id": "b21e4750",
   "metadata": {},
   "outputs": [
    {
     "name": "stdout",
     "output_type": "stream",
     "text": [
      "25/25 [==============================] - 0s 5ms/step\n"
     ]
    }
   ],
   "source": [
    "result = model.predict(test)"
   ]
  },
  {
   "cell_type": "code",
   "execution_count": 38,
   "id": "d76ea0e7",
   "metadata": {},
   "outputs": [
    {
     "data": {
      "text/html": [
       "<div>\n",
       "<style scoped>\n",
       "    .dataframe tbody tr th:only-of-type {\n",
       "        vertical-align: middle;\n",
       "    }\n",
       "\n",
       "    .dataframe tbody tr th {\n",
       "        vertical-align: top;\n",
       "    }\n",
       "\n",
       "    .dataframe thead th {\n",
       "        text-align: right;\n",
       "    }\n",
       "</style>\n",
       "<table border=\"1\" class=\"dataframe\">\n",
       "  <thead>\n",
       "    <tr style=\"text-align: right;\">\n",
       "      <th></th>\n",
       "      <th>Predict</th>\n",
       "    </tr>\n",
       "  </thead>\n",
       "  <tbody>\n",
       "    <tr>\n",
       "      <th>0</th>\n",
       "      <td>[92]</td>\n",
       "    </tr>\n",
       "    <tr>\n",
       "      <th>1</th>\n",
       "      <td>[2]</td>\n",
       "    </tr>\n",
       "    <tr>\n",
       "      <th>2</th>\n",
       "      <td>[31]</td>\n",
       "    </tr>\n",
       "    <tr>\n",
       "      <th>3</th>\n",
       "      <td>[23]</td>\n",
       "    </tr>\n",
       "    <tr>\n",
       "      <th>4</th>\n",
       "      <td>[32]</td>\n",
       "    </tr>\n",
       "    <tr>\n",
       "      <th>...</th>\n",
       "      <td>...</td>\n",
       "    </tr>\n",
       "    <tr>\n",
       "      <th>795</th>\n",
       "      <td>[54]</td>\n",
       "    </tr>\n",
       "    <tr>\n",
       "      <th>796</th>\n",
       "      <td>[97]</td>\n",
       "    </tr>\n",
       "    <tr>\n",
       "      <th>797</th>\n",
       "      <td>[13, 71]</td>\n",
       "    </tr>\n",
       "    <tr>\n",
       "      <th>798</th>\n",
       "      <td>[71]</td>\n",
       "    </tr>\n",
       "    <tr>\n",
       "      <th>799</th>\n",
       "      <td>[]</td>\n",
       "    </tr>\n",
       "  </tbody>\n",
       "</table>\n",
       "<p>800 rows × 1 columns</p>\n",
       "</div>"
      ],
      "text/plain": [
       "      Predict\n",
       "0        [92]\n",
       "1         [2]\n",
       "2        [31]\n",
       "3        [23]\n",
       "4        [32]\n",
       "..        ...\n",
       "795      [54]\n",
       "796      [97]\n",
       "797  [13, 71]\n",
       "798      [71]\n",
       "799        []\n",
       "\n",
       "[800 rows x 1 columns]"
      ]
     },
     "execution_count": 38,
     "metadata": {},
     "output_type": "execute_result"
    }
   ],
   "source": [
    "idx = [np.where(p>0.5) for p in result]\n",
    "df = pd.DataFrame(idx, columns=['Predict'])\n",
    "df"
   ]
  },
  {
   "cell_type": "code",
   "execution_count": 71,
   "id": "446c9d52",
   "metadata": {},
   "outputs": [],
   "source": [
    "df.to_csv('result.csv')"
   ]
  },
  {
   "cell_type": "code",
   "execution_count": null,
   "id": "8e1fcc88",
   "metadata": {},
   "outputs": [],
   "source": []
  }
 ],
 "metadata": {
  "kernelspec": {
   "display_name": "Python 3 (ipykernel)",
   "language": "python",
   "name": "python3"
  },
  "language_info": {
   "codemirror_mode": {
    "name": "ipython",
    "version": 3
   },
   "file_extension": ".py",
   "mimetype": "text/x-python",
   "name": "python",
   "nbconvert_exporter": "python",
   "pygments_lexer": "ipython3",
   "version": "3.8.13"
  }
 },
 "nbformat": 4,
 "nbformat_minor": 5
}
